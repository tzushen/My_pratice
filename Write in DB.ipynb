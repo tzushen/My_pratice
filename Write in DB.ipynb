{
 "cells": [
  {
   "cell_type": "code",
   "execution_count": 9,
   "metadata": {
    "collapsed": false
   },
   "outputs": [
    {
     "name": "stdout",
     "output_type": "stream",
     "text": [
      "24433\n"
     ]
    },
    {
     "data": {
      "text/plain": [
       "<pymongo.results.InsertManyResult at 0x2060b3a8>"
      ]
     },
     "execution_count": 9,
     "metadata": {},
     "output_type": "execute_result"
    }
   ],
   "source": [
    "import pymongo\n",
    "from pymongo import MongoClient\n",
    "import json\n",
    "\n",
    "with open('D:/a/ptt/gos2016_5.json', 'r') as f:\n",
    "    i = f.read()\n",
    "    #json1 = json.loads(i)['url'],json.loads(i)['title'],json.loads(i)['date'],json.loads(i)['content']\n",
    "    json = json.loads(i)\n",
    "    f.close()\n",
    "    print len(json)\n",
    "    \n",
    "client = MongoClient() \n",
    "database = client[\"ptt\"]\n",
    "collection = database[\"gossip\"]\n",
    "collection.insert_many(\n",
    "    json\n",
    ")"
   ]
  },
  {
   "cell_type": "code",
   "execution_count": null,
   "metadata": {
    "collapsed": true
   },
   "outputs": [],
   "source": []
  }
 ],
 "metadata": {
  "kernelspec": {
   "display_name": "Python 2",
   "language": "python",
   "name": "python2"
  },
  "language_info": {
   "codemirror_mode": {
    "name": "ipython",
    "version": 2
   },
   "file_extension": ".py",
   "mimetype": "text/x-python",
   "name": "python",
   "nbconvert_exporter": "python",
   "pygments_lexer": "ipython2",
   "version": "2.7.11"
  }
 },
 "nbformat": 4,
 "nbformat_minor": 0
}
