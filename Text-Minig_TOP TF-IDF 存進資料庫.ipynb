{
 "cells": [
  {
   "cell_type": "markdown",
   "metadata": {},
   "source": [
    "## 把抓到的TF-IDF 關鍵詞存入資料庫"
   ]
  },
  {
   "cell_type": "code",
   "execution_count": 1,
   "metadata": {
    "collapsed": false
   },
   "outputs": [
    {
     "name": "stderr",
     "output_type": "stream",
     "text": [
      "Building prefix dict from E:\\dics\\dict.txt.big.txt ...\n",
      "Loading model from cache c:\\users\\bigdat~1\\appdata\\local\\temp\\jieba.u56ec63d90e89b3354142c30b3eb89a90.cache\n",
      "Loading model cost 0.492 seconds.\n",
      "Prefix dict has been built succesfully.\n"
     ]
    }
   ],
   "source": [
    "#把使用的套件都匯入\n",
    "import re\n",
    "from pymongo import MongoClient \n",
    "from sklearn.feature_extraction.text import TfidfVectorizer\n",
    "import numpy as np\n",
    "import re\n",
    "import jieba\n",
    "jieba.set_dictionary('E:/dics/dict.txt.big.txt')  #切換至中文繁體字庫\n",
    "jieba.load_userdict(\"E:/dics/dict_keyw.txt\")       #加入自建詞庫\n",
    "\n",
    "#預設就是自己\n",
    "client = MongoClient('10.120.28.12',27017)\n",
    "database = client['test']\n",
    "collection =database['test']"
   ]
  },
  {
   "cell_type": "markdown",
   "metadata": {},
   "source": [
    "## Get Data"
   ]
  },
  {
   "cell_type": "code",
   "execution_count": 2,
   "metadata": {
    "collapsed": false
   },
   "outputs": [
    {
     "name": "stdout",
     "output_type": "stream",
     "text": [
      "文章數: 7135\n",
      "執行時間: 0.247664899644\n"
     ]
    }
   ],
   "source": [
    "import time\n",
    "tic = time.clock()\n",
    "\n",
    "title=[]\n",
    "content =[]\n",
    "#拿資料\n",
    "for post in collection.find(): \n",
    "    summary = post['content']\n",
    "    content.append('/'.join(jieba.cut(summary)))\n",
    "    title.append(post['title'])\n",
    "#總文章數量\n",
    "print \"文章數:\",len(title)\n",
    "toc = time.clock()\n",
    "print \"執行時間:\",(toc - tic)/60"
   ]
  },
  {
   "cell_type": "markdown",
   "metadata": {},
   "source": [
    "## Get Weight & features"
   ]
  },
  {
   "cell_type": "code",
   "execution_count": 4,
   "metadata": {
    "collapsed": false
   },
   "outputs": [
    {
     "name": "stdout",
     "output_type": "stream",
     "text": [
      "Feature_num 123652\n"
     ]
    }
   ],
   "source": [
    "from sklearn.feature_extraction.text import TfidfVectorizer\n",
    "import numpy as np\n",
    "\n",
    "vectorizer = TfidfVectorizer()\n",
    "X = vectorizer.fit_transform(content)  # titile 放文本\n",
    "weight = X.toarray()\n",
    "\n",
    "#特徵值總共有多少個\n",
    "features = vectorizer.get_feature_names()     # 拿到所有的關鍵詞  \n",
    "print \"特徵值數量:\",len(features)"
   ]
  },
  {
   "cell_type": "markdown",
   "metadata": {},
   "source": [
    "## Get Top TF-IDF"
   ]
  },
  {
   "cell_type": "code",
   "execution_count": 58,
   "metadata": {
    "collapsed": false
   },
   "outputs": [
    {
     "name": "stdout",
     "output_type": "stream",
     "text": [
      "執行時間: 0.209206105439\n",
      "7134\n",
      "<type 'list'>\n"
     ]
    }
   ],
   "source": [
    "import time\n",
    "tic = time.clock()\n",
    "\n",
    "top_features = []\n",
    "for n in range(0,7134):  #迴圈參考上面的總文章數\n",
    "    indices = np.argsort(weight[n])[::-1]  # transformer = TfidfTransformer()  #X.toarray()[5] 是第幾篇新聞的意思\n",
    "    # 看TOP多少的詞\n",
    "    top_n = 30\n",
    "    top_features.append([features[i] for i in indices[:top_n]])    #這邊的寫法會讓關鍵字中間會有空白\n",
    "    \n",
    "toc = time.clock()\n",
    "print \"執行時間:\",(toc - tic)/60\n",
    "\n",
    "print len(top_features) #可加一行讓每組關鍵字中間是 / \n",
    "print type(top_features)"
   ]
  },
  {
   "cell_type": "markdown",
   "metadata": {},
   "source": [
    "## Put into Database"
   ]
  },
  {
   "cell_type": "code",
   "execution_count": 59,
   "metadata": {
    "collapsed": false
   },
   "outputs": [
    {
     "name": "stdout",
     "output_type": "stream",
     "text": [
      "執行時間: 0.332543149083\n"
     ]
    }
   ],
   "source": [
    "import time\n",
    "tic = time.clock()\n",
    "\n",
    "obj = collection.find()  #這行一定要加\n",
    "for i in range(0,7134):  #迴圈參考上面的總文章數\n",
    "    collection.update({\"title\":obj[i][\"title\"]},{\"$set\":{\"tfidf1\":top_features[i]}}) #collection.update即可\n",
    "\n",
    "toc = time.clock()\n",
    "print \"執行時間:\",(toc - tic)/60"
   ]
  },
  {
   "cell_type": "code",
   "execution_count": 57,
   "metadata": {
    "collapsed": false
   },
   "outputs": [
    {
     "name": "stdout",
     "output_type": "stream",
     "text": [
      "多則\n",
      "五月天\n"
     ]
    }
   ],
   "source": [
    "# Check\n",
    "#存放方式 \"tfidf1\" : [ \"最新民調\", \"成則\", \"強國\", \"大陸人\", \"釣魚台主權\", \"中日關係\", \"爭端\", \"中日\", \"環球時報\"]\n",
    "\n",
    "obj = collection.find()\n",
    "print obj[110]['tfidf'][2]  #看第幾篇新聞的tf-idf屬性以及看第幾個元素\n",
    "print top_features[1][2]"
   ]
  },
  {
   "cell_type": "code",
   "execution_count": null,
   "metadata": {
    "collapsed": true
   },
   "outputs": [],
   "source": []
  }
 ],
 "metadata": {
  "kernelspec": {
   "display_name": "Python 2",
   "language": "python",
   "name": "python2"
  },
  "language_info": {
   "codemirror_mode": {
    "name": "ipython",
    "version": 2
   },
   "file_extension": ".py",
   "mimetype": "text/x-python",
   "name": "python",
   "nbconvert_exporter": "python",
   "pygments_lexer": "ipython2",
   "version": "2.7.11"
  }
 },
 "nbformat": 4,
 "nbformat_minor": 0
}
