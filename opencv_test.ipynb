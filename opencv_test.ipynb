{
 "cells": [
  {
   "cell_type": "markdown",
   "metadata": {},
   "source": [
    "##讀入圖片顯示"
   ]
  },
  {
   "cell_type": "code",
   "execution_count": 8,
   "metadata": {
    "collapsed": false
   },
   "outputs": [],
   "source": [
    "import cv2\n",
    "import numpy as np\n",
    "im = cv2.imread('C:/Users/BIG DATA/Anaconda2/imgs/test3.png')\n",
    "cv2.imshow('im', im)\n",
    "cv2.waitKey(0)\n",
    "cv2.destroyAllWindows()"
   ]
  },
  {
   "cell_type": "markdown",
   "metadata": {},
   "source": [
    "讀取圖片方法,傳回包含圖片檔案的物件\n",
    "cv2.imread(\"檔案路徑\",套用模式)\n",
    "套用模式有三種:\n",
    "1.cv2.IMREAD_COLOR RGB模式,會忽略透明度,即RGBA只辨識RGB,這是預設模式\n",
    "2.cv2.IMREAD_GRAYSCALE 灰階模式,只有黑灰白\n",
    "3.cv2.IMREAD_UNCHANGED RGBA模式\n",
    "\n",
    "顯示圖片在視窗的方法\n",
    "cv2.imshow(\"視窗名稱\",讀入圖片的物件)\n",
    "字串會顯示在圖片的視窗的title上, 不重要\n",
    "\n",
    "設定圖片顯示多久的方法\n",
    "cv2.waitKey(時間長度)\n",
    "時間長度單位是millisecond,\n",
    "給0的話會停住(持續保持顯示圖片的狀態)\n",
    "有聆聽鍵盤輸入的功能(我還不會用)\n",
    "\n",
    "清除此次運作程式叫出的所有視窗\n",
    "cv2.destroyAllWindows()\n",
    "清除指定的視窗\n",
    "cv2.destroyWindow(\"視窗名稱\")"
   ]
  },
  {
   "cell_type": "code",
   "execution_count": 13,
   "metadata": {
    "collapsed": false
   },
   "outputs": [],
   "source": [
    "import cv2\n",
    "import numpy as np\n",
    "im = cv2.imread('C:/Users/BIG DATA/Anaconda2/imgs/witch.jpg',cv2.IMREAD_GRAYSCALE)\n",
    "cv2.imshow('testtest', im)\n",
    "cv2.waitKey(0)\n",
    "cv2.destroyAllWindows()\n"
   ]
  },
  {
   "cell_type": "markdown",
   "metadata": {},
   "source": [
    "產生一個空視窗的方法\n",
    "cv2.namedWindow(\"視窗名稱\",\"設定視窗大小\")\n",
    "注意!!只要產生視窗就一定要設定cv2.waitKey(0)與cv2.destroyAllWindows()\n",
    "他們是一起的!!\n",
    "否則有可能會當掉or程式不正常結束!!\n",
    "設定視窗大小有兩種:\n",
    "1.cv2.WINDOW_AUTOSIZE 會自動調整大小,沒有圖片時顯示預設大小,這是預設值\n",
    "2.cv2.WINDOW_NORMAL 這是視窗大小 = 圖片大小,沒有圖片仍先套用圖片大小"
   ]
  },
  {
   "cell_type": "code",
   "execution_count": 11,
   "metadata": {
    "collapsed": false
   },
   "outputs": [],
   "source": [
    "import cv2\n",
    "import numpy as np\n",
    "import time\n",
    "cv2.namedWindow(\"koala\", cv2.WINDOW_AUTOSIZE)\n",
    "time.sleep(3) ##產生視窗3秒後才載入圖片\n",
    "img_ko = cv2.imread('C:/Users/BIG DATA/Anaconda2/imgs/koala.jpg')\n",
    "cv2.imshow('koala',img_ko)\n",
    "cv2.waitKey(0)\n",
    "cv2.destroyAllWindows()"
   ]
  },
  {
   "cell_type": "markdown",
   "metadata": {},
   "source": [
    "將圖片存檔到硬碟\n",
    "cv2.imwrite(\"存檔路徑\",圖片物件)\n",
    "此方法無法執行\n",
    "可能是安裝cv2不完整\n",
    "error: C:\\builds\\master_PackSlaveAddon-win64-vc12-static\\opencv\\modules\\imgcodecs\\src\\loadsave.cpp:439: error: (-2) could not find a writer for the specified extension in function cv::imwrite_\n",
    "\n",
    "請先用python內建的方法存檔"
   ]
  },
  {
   "cell_type": "code",
   "execution_count": 16,
   "metadata": {
    "collapsed": false,
    "scrolled": false
   },
   "outputs": [
    {
     "ename": "error",
     "evalue": "C:\\builds\\master_PackSlaveAddon-win64-vc12-static\\opencv\\modules\\imgcodecs\\src\\loadsave.cpp:439: error: (-2) could not find a writer for the specified extension in function cv::imwrite_\n",
     "output_type": "error",
     "traceback": [
      "\u001b[1;31m---------------------------------------------------------------------------\u001b[0m",
      "\u001b[1;31merror\u001b[0m                                     Traceback (most recent call last)",
      "\u001b[1;32m<ipython-input-16-9ede21f4f14f>\u001b[0m in \u001b[0;36m<module>\u001b[1;34m()\u001b[0m\n\u001b[0;32m      1\u001b[0m \u001b[1;32mimport\u001b[0m \u001b[0mcv2\u001b[0m\u001b[1;33m\u001b[0m\u001b[0m\n\u001b[0;32m      2\u001b[0m \u001b[0mim\u001b[0m \u001b[1;33m=\u001b[0m \u001b[0mcv2\u001b[0m\u001b[1;33m.\u001b[0m\u001b[0mimread\u001b[0m\u001b[1;33m(\u001b[0m\u001b[1;34m'C:/Users/BIG DATA/Anaconda2/imgs/witch.jpg'\u001b[0m\u001b[1;33m,\u001b[0m\u001b[0mcv2\u001b[0m\u001b[1;33m.\u001b[0m\u001b[0mIMREAD_GRAYSCALE\u001b[0m\u001b[1;33m)\u001b[0m\u001b[1;33m\u001b[0m\u001b[0m\n\u001b[1;32m----> 3\u001b[1;33m \u001b[0mcv2\u001b[0m\u001b[1;33m.\u001b[0m\u001b[0mimwrite\u001b[0m\u001b[1;33m(\u001b[0m\u001b[1;34m\"witch_gray\"\u001b[0m\u001b[1;33m,\u001b[0m\u001b[0mim\u001b[0m\u001b[1;33m)\u001b[0m\u001b[1;33m\u001b[0m\u001b[0m\n\u001b[0m",
      "\u001b[1;31merror\u001b[0m: C:\\builds\\master_PackSlaveAddon-win64-vc12-static\\opencv\\modules\\imgcodecs\\src\\loadsave.cpp:439: error: (-2) could not find a writer for the specified extension in function cv::imwrite_\n"
     ]
    }
   ],
   "source": [
    "import cv2\n",
    "im = cv2.imread('C:/Users/BIG DATA/Anaconda2/imgs/witch.jpg',cv2.IMREAD_GRAYSCALE)\n",
    "cv2.imwrite(\"witch_gray\",im)\n"
   ]
  },
  {
   "cell_type": "markdown",
   "metadata": {},
   "source": [
    "教程範例:\n",
    "讀入圖片, 轉成灰階,視窗顯示圖片,\n",
    "聆聽鍵盤,如果是ESC則關閉視窗,\n",
    "如果是s鍵則存檔+關閉視窗"
   ]
  },
  {
   "cell_type": "code",
   "execution_count": 19,
   "metadata": {
    "collapsed": true
   },
   "outputs": [],
   "source": [
    "import numpy as np\n",
    "import cv2\n",
    "\n",
    "img = cv2.imread('C:/Users/BIG DATA/Anaconda2/imgs/witch.jpg',cv2.IMREAD_GRAYSCALE)\n",
    "cv2.imshow('image',img)\n",
    "k = cv2.waitKey(0)                        #存入變數聆聽事件\n",
    "#k = cv2.waitKey(0) & 0xFF                #如果是64位元,教程建議加上 &0xFF\n",
    "if k == 27:                               #27為ESC鍵的代號\n",
    "    cv2.destroyAllWindows()\n",
    "elif k == ord('s'):                       #字母鍵寫法ord(\"鍵\")\n",
    "    #cv2.imwrite('messigray.png',img)     #cv版存檔有錯不能用\n",
    "    cv2.destroyAllWindows()"
   ]
  },
  {
   "cell_type": "code",
   "execution_count": null,
   "metadata": {
    "collapsed": true
   },
   "outputs": [],
   "source": []
  }
 ],
 "metadata": {
  "kernelspec": {
   "display_name": "Python 2",
   "language": "python",
   "name": "python2"
  },
  "language_info": {
   "codemirror_mode": {
    "name": "ipython",
    "version": 2
   },
   "file_extension": ".py",
   "mimetype": "text/x-python",
   "name": "python",
   "nbconvert_exporter": "python",
   "pygments_lexer": "ipython2",
   "version": "2.7.11"
  }
 },
 "nbformat": 4,
 "nbformat_minor": 0
}
