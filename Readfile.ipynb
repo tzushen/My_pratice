{
 "cells": [
  {
   "cell_type": "markdown",
   "metadata": {},
   "source": [
    "### 讀檔以及新增欄位"
   ]
  },
  {
   "cell_type": "code",
   "execution_count": null,
   "metadata": {
    "collapsed": true
   },
   "outputs": [],
   "source": [
    "import os\n",
    "import string\n",
    "x=[]\n",
    "s='[' #建立多個字典\n",
    "for dirPath, dirNames, fileNames in os.walk(\"E:/a/1/\"):\n",
    "#    print fileNames\n",
    "    a = [dirPath, dirNames, fileNames]\n",
    "    x.append(a)\n",
    "#    print x\n",
    "#    print dirPath\n",
    "        \n",
    "for f in fileNames:\n",
    "    path = x[0][0]\n",
    "    road = os.path.join(path, f)\n",
    "    with open(road,'r') as f:\n",
    "        s += f.read()+','\n",
    "        s1 = '{\"comp\":\"ptt\",\"url\"'.join(s.split('{\"url\"'))#這是前面檔案忘記加上COMP\n",
    "f = open('E:/b/goss2016_01.json','w')\n",
    "s2 = s1[:-1]\n",
    "s2 += ']'\n",
    "#print s1[-4:-1]\n",
    "f.write(s2)\n",
    "f.close()"
   ]
  },
  {
   "cell_type": "code",
   "execution_count": null,
   "metadata": {
    "collapsed": true
   },
   "outputs": [],
   "source": [
    "import os\n",
    "x=[]\n",
    "s='['\n",
    "for dirPath, dirNames, fileNames in os.walk(\"E:/TEST/\"):\n",
    "    #print fileNames\n",
    "    a = [dirPath, dirNames, fileNames]\n",
    "    x.append(a)\n",
    "#    print x\n",
    "#    print dirPath\n",
    "        \n",
    "for n in fileNames:\n",
    "    path = x[0][0]\n",
    "    road = os.path.join(path, n)\n",
    "    with open(road,'r') as f:\n",
    "           s += f.read()+','\n",
    "f = open('E:/gossiping2/hat2015.json','w')\n",
    "s1 = s[:-1]\n",
    "s1 += ']'\n",
    "#print s1[-4:-1]\n",
    "f.write(s1)\n",
    "f.close()"
   ]
  }
 ],
 "metadata": {
  "kernelspec": {
   "display_name": "Python 2",
   "language": "python",
   "name": "python2"
  },
  "language_info": {
   "codemirror_mode": {
    "name": "ipython",
    "version": 2
   },
   "file_extension": ".py",
   "mimetype": "text/x-python",
   "name": "python",
   "nbconvert_exporter": "python",
   "pygments_lexer": "ipython2",
   "version": "2.7.11"
  }
 },
 "nbformat": 4,
 "nbformat_minor": 0
}
