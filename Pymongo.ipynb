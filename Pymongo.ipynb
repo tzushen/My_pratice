{
 "cells": [
  {
   "cell_type": "markdown",
   "metadata": {
    "collapsed": true
   },
   "source": [
    "### 參考資料:\n",
    "https://docs.mongodb.org/manual/reference/sql-comparison/"
   ]
  },
  {
   "cell_type": "markdown",
   "metadata": {},
   "source": [
    "### Input MongoDB"
   ]
  },
  {
   "cell_type": "code",
   "execution_count": null,
   "metadata": {
    "collapsed": true
   },
   "outputs": [],
   "source": [
    "import pymongo\n",
    "from pymongo import MongoClient\n",
    "import json\n",
    "\n",
    "with open('E:/test4/201504.json', 'r') as f:\n",
    "    i = f.read()\n",
    "    #json1 = json.loads(i)['url'],json.loads(i)['title'],json.loads(i)['date'],json.loads(i)['content']\n",
    "    json = json.loads(i)\n",
    "    f.close()\n",
    "    print len(json)\n",
    "    \n",
    "client = MongoClient() \n",
    "database = client[\"testnews\"]\n",
    "collection = database[\"news6\"]\n",
    "collection.insert_many(\n",
    "    json\n",
    ")\n",
    "#for post in collection.find(): #collection = person,這等於select * from person\n",
    "#    print post #讀出來"
   ]
  },
  {
   "cell_type": "markdown",
   "metadata": {},
   "source": [
    "### 讀取MongoDB"
   ]
  },
  {
   "cell_type": "code",
   "execution_count": null,
   "metadata": {
    "collapsed": true
   },
   "outputs": [],
   "source": [
    "import pymongo\n",
    "from pymongo import MongoClient\n",
    "client = MongoClient('10.120.28.20',27017) #預設連接自己主機上的mongodb\n",
    "#print client\n",
    "database = client[\"test\"] # SQL: Database Name\n",
    "#print database\n",
    "collection = database[\"news\"]\n",
    "#print collection\n",
    "for post in collection.find(): #查詢所有name的正確寫法!!\n",
    "    print post[\"comp\"]"
   ]
  },
  {
   "cell_type": "markdown",
   "metadata": {},
   "source": [
    "### 讀+寫"
   ]
  },
  {
   "cell_type": "code",
   "execution_count": null,
   "metadata": {
    "collapsed": true
   },
   "outputs": [],
   "source": [
    "import json\n",
    "import pymongo\n",
    "from pymongo import MongoClient\n",
    "client = MongoClient('10.120.28.29',27017)\n",
    "\n",
    "database = client[\"news\"]\n",
    "\n",
    "collection = database[\"news1\"]\n",
    "\n",
    "db = collection.find().limit(800000)\n",
    "\n",
    "client = MongoClient()\n",
    "database = client['newstest']\n",
    "collection = database['newstest7']\n",
    "collection.insert_many(\n",
    "    db\n",
    ")"
   ]
  },
  {
   "cell_type": "markdown",
   "metadata": {},
   "source": [
    "### 模糊查詢"
   ]
  },
  {
   "cell_type": "code",
   "execution_count": null,
   "metadata": {
    "collapsed": true
   },
   "outputs": [],
   "source": [
    "for post in collection.find(\n",
    "    {\"age\":{\"$gt\":20}}, #查詢條件age > 20 用$gt表示大於\n",
    "    {\"_id\":0,\"name\":1,\"age\":1}).sort(\"age\",-1):\n",
    "    #sort()填入2個參數(排序欄位,正/負向排序)\n",
    "    print post\n",
    "\n",
    "#$字串用法:\n",
    "#equal to, 等於, 沒有相等的用法, 指定age=20就寫成{\"age\":20}\n",
    "#great than, 大於$gt 比如{\"age\":{\"$gt\":20}}\n",
    "#great than or equal to, 大於等於$gte\n",
    "#less than, 小於$lt\n",
    "#less than or equal to, 小於等於$lte\n",
    "#not equal to, 不等於$ne\n",
    "#---------------------------------\n",
    "#比對字串用以下兩個\n",
    "#注意這是\"精確查詢\" (Precise Search)\n",
    "#in, 包含某字串$in\n",
    "#not in, 不包含某字串$nin"
   ]
  },
  {
   "cell_type": "code",
   "execution_count": null,
   "metadata": {
    "collapsed": true
   },
   "outputs": [],
   "source": [
    "client = MongoClient()\n",
    "database = client[\"test\"]\n",
    "collection = database[\"news\"]\n",
    "\n",
    "count = 0\n",
    "tax = \"蘋果全家樂,親子同歡Love大小朋友藝起來,週週創意有玩樂\"\n",
    "\n",
    "\n",
    "for post in collection.find({\"title\":{\"$regex\":tax}},{\"_id\":0}): \n",
    "    #這才是pymongo做模糊查詢的正確寫法\n",
    "    print \"--分類--\"\n",
    "    print post[\"category\"]\n",
    "    print \"--報社--\"\n",
    "    print post[\"comp\"]\n",
    "    print \"--新聞日期--\"\n",
    "    print post[\"date\"]\n",
    "    print \"--標題--\"\n",
    "    print post[\"title\"]\n",
    "    print \"--內文--\"\n",
    "    print post[\"content\"]\n",
    "    print \"--連結--\"\n",
    "    print post[\"url\"]\n",
    "    print \"----------------\"\n",
    "    count +=1\n",
    "print \"----------------\"\n",
    "print \"搜尋出\"+str(count)+\"篇包含 \"+tax+\" 的新聞\""
   ]
  },
  {
   "cell_type": "code",
   "execution_count": null,
   "metadata": {
    "collapsed": true
   },
   "outputs": [],
   "source": [
    "\n",
    "from pymongo import MongoClient  #logical query selector\n",
    "\n",
    "client = MongoClient('10.120.28.20', 27017)\n",
    "database = client[\"test\"]\n",
    "collection = database[\"news\"]\n",
    "\n",
    "count = 0\n",
    "tag1 = \"王建民\"\n",
    "tag2 = \"滾地球\"\n",
    "tag3 = \"皇家\"\n",
    "\n",
    "#查詢滿足多重條件的語法是{\"$and\":[{條件1},{條件2},{條件3},...]}\n",
    "#另有$or, $not, $nor\n",
    "#$all在pymongo已廢止, 因為與$and功能重複\n",
    "\n",
    "for post in collection.find(\n",
    "    {\"$and\":[                   \n",
    "            {\"content\":{\"$regex\":tag1}},\n",
    "            {\"content\":{\"$regex\":tag2}},\n",
    "            {\"content\":{\"$regex\":tag3}},\n",
    "            {\"date\":{\"$regex\":\"2016\"}}\n",
    "            ]},{\"_id\":0}): \n",
    "    \n",
    "    print \"--分類--\"\n",
    "    print post[\"category\"]\n",
    "    print \"--報社--\"\n",
    "    print post[\"comp\"]\n",
    "    print \"--新聞日期--\"\n",
    "    print post[\"date\"]\n",
    "    print \"--標題--\"\n",
    "    print post[\"title\"]\n",
    "    print \"--內文--\"\n",
    "    print post[\"content\"]\n",
    "    print \"--連結--\"\n",
    "    print post[\"url\"]\n",
    "    print \"----------------\"\n",
    "    count +=1\n",
    "print \"----------------\"\n",
    "print \"搜尋出\"+str(count)+\"篇包含 \"+tag1+\", \"+tag2+\", \"+tag3+\",\"+\" 於2016年的新聞\"\n",
    "\n",
    "client.close()"
   ]
  }
 ],
 "metadata": {
  "kernelspec": {
   "display_name": "Python 2",
   "language": "python",
   "name": "python2"
  },
  "language_info": {
   "codemirror_mode": {
    "name": "ipython",
    "version": 2
   },
   "file_extension": ".py",
   "mimetype": "text/x-python",
   "name": "python",
   "nbconvert_exporter": "python",
   "pygments_lexer": "ipython2",
   "version": "2.7.11"
  }
 },
 "nbformat": 4,
 "nbformat_minor": 0
}
