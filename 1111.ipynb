{
 "cells": [
  {
   "cell_type": "code",
   "execution_count": 19,
   "metadata": {
    "collapsed": false,
    "scrolled": true
   },
   "outputs": [],
   "source": [
    "#抓內文\n",
    "import requests\n",
    "from bs4 import BeautifulSoup as bs\n",
    "import time\n",
    "paper = \"\"\n",
    "url=\"http://www.1111.com.tw/job-bank/job-description.asp?eNo=54513672&agent=home_20160309\"\n",
    "res = requests.get(url)\n",
    "soup = bs(res.text)\n",
    "divs = soup.select('#midblock dt')\n",
    "divs1 = soup.select('#midblock dd')\n",
    "title = soup.select('#commonTop h1')[0]\n",
    "paper = title.text+'  '\n",
    "len_div = len(divs)\n",
    "for i in range(0,len(divs)):\n",
    "    x = divs[i].text\n",
    "    y = divs1[i].text\n",
    "    dic = {x:y}\n",
    "    for ele in dic:\n",
    "        paper += ele+dic[ele]\n",
    "    name = url.split('=')[2]      \n",
    "    f = open('E:\\job\\{}.txt'.format(name),'w')\n",
    "    f.write(paper.encode('utf8'))\n",
    "    f.close()\n",
    "    time.sleep(3)"
   ]
  },
  {
   "cell_type": "code",
   "execution_count": 94,
   "metadata": {
    "collapsed": false
   },
   "outputs": [
    {
     "name": "stdout",
     "output_type": "stream",
     "text": [
      "home_20160309\n"
     ]
    }
   ],
   "source": [
    "url=\"http://www.1111.com.tw/job-bank/job-description.asp?eNo=54513672&agent=home_20160309\"\n",
    "name = url.split('=')[2]      \n",
    "print name"
   ]
  },
  {
   "cell_type": "code",
   "execution_count": 2,
   "metadata": {
    "collapsed": false
   },
   "outputs": [
    {
     "name": "stdout",
     "output_type": "stream",
     "text": [
      "http://www.1111.com.tw/job-bank/job-description.asp?eNo=75995431&agent=home_20160310\n",
      "http://www.1111.com.tw/job-bank/job-description.asp?eNo=78430487&agent=home_20160310\n",
      "http://www.1111.com.tw/job-bank/job-description.asp?eNo=54513672&agent=home_20160310\n",
      "http://www.1111.com.tw/job-bank/job-description.asp?eNo=77180900&agent=home_20160310\n",
      "http://www.1111.com.tw/job-bank/job-description.asp?eNo=78620058&agent=home_20160310\n",
      "http://www.1111.com.tw/job-bank/job-description.asp?eNo=77802665&agent=home_20160310\n",
      "http://www.1111.com.tw/job-bank/job-description.asp?eNo=77339231&agent=home_20160310\n",
      "http://www.1111.com.tw/job-bank/job-description.asp?eNo=78395593&agent=home_20160310\n",
      "http://www.1111.com.tw/job-bank/job-description.asp?eNo=78505542&agent=home_20160310\n",
      "http://www.1111.com.tw/job-bank/job-description.asp?eNo=78478434&agent=home_20160310\n",
      "http://www.1111.com.tw/job-bank/job-description.asp?eNo=78545966&agent=home_20160310\n",
      "http://www.1111.com.tw/job-bank/job-description.asp?eNo=78489540&agent=home_20160310\n",
      "http://www.1111.com.tw/job-bank/job-description.asp?eNo=77171224&agent=home_20160310\n",
      "http://www.1111.com.tw/job-bank/job-description.asp?eNo=76536553&agent=home_20160310\n",
      "http://www.1111.com.tw/job-bank/job-description.asp?eNo=75732392&agent=home_20160310\n",
      "http://www.1111.com.tw/job-bank/job-description.asp?eNo=75852402&agent=home_20160310\n",
      "http://www.1111.com.tw/job-bank/job-description.asp?eNo=78318067&agent=home_20160310\n",
      "http://www.1111.com.tw/job-bank/job-description.asp?eNo=76575264&agent=home_20160310\n",
      "http://www.1111.com.tw/job-bank/job-description.asp?eNo=77021742&agent=home_20160310\n",
      "http://www.1111.com.tw/job-bank/job-description.asp?eNo=78478438&agent=home_20160310\n",
      "http://www.1111.com.tw/job-bank/job-description.asp?eNo=77772296&agent=home_20160310\n",
      "http://www.1111.com.tw/job-bank/job-description.asp?eNo=77157655&agent=home_20160310\n",
      "http://www.1111.com.tw/job-bank/job-description.asp?eNo=78478449&agent=home_20160310\n",
      "http://www.1111.com.tw/job-bank/job-description.asp?eNo=77213182&agent=home_20160310\n",
      "http://www.1111.com.tw/job-bank/job-description.asp?eNo=78478432&agent=home_20160310\n",
      "http://www.1111.com.tw/job-bank/job-description.asp?eNo=77171189&agent=home_20160310\n",
      "http://www.1111.com.tw/job-bank/job-description.asp?eNo=78395602&agent=home_20160310\n",
      "http://www.1111.com.tw/job-bank/job-description.asp?eNo=78395582&agent=home_20160310\n",
      "http://www.1111.com.tw/job-bank/job-description.asp?eNo=77004976&agent=home_20160310\n",
      "http://www.1111.com.tw/job-bank/job-description.asp?eNo=78335716&agent=home_20160310\n",
      "http://www.1111.com.tw/job-bank/job-description.asp?eNo=78478422&agent=home_20160310\n",
      "http://www.1111.com.tw/job-bank/job-description.asp?eNo=77772273&agent=home_20160310\n",
      "http://www.1111.com.tw/job-bank/job-description.asp?eNo=78247995&agent=home_20160310\n",
      "http://www.1111.com.tw/job-bank/job-description.asp?eNo=78489477&agent=home_20160310\n",
      "http://www.1111.com.tw/job-bank/job-description.asp?eNo=76536588&agent=home_20160310\n",
      "http://www.1111.com.tw/job-bank/job-description.asp?eNo=77229809&agent=home_20160310\n",
      "http://www.1111.com.tw/job-bank/job-description.asp?eNo=78247998&agent=home_20160310\n",
      "http://www.1111.com.tw/job-bank/job-description.asp?eNo=77181471&agent=home_20160310\n",
      "http://www.1111.com.tw/job-bank/job-description.asp?eNo=78478440&agent=home_20160310\n",
      "http://www.1111.com.tw/job-bank/job-description.asp?eNo=78578253&agent=home_20160310\n",
      "http://www.1111.com.tw/job-bank/job-description.asp?eNo=78609978&agent=home_20160310\n",
      "http://www.1111.com.tw/job-bank/job-description.asp?eNo=77232494&agent=home_20160310\n",
      "http://www.1111.com.tw/job-bank/job-description.asp?eNo=78460971&agent=home_20160310\n"
     ]
    }
   ],
   "source": [
    "#抓目錄\n",
    "url=\"http://www.1111.com.tw/job-bank/job-index.asp?ss=s&tt=1,2,4,16&d0=140202&wc=100100&si=1&ps=40&trans=1\"\n",
    "res = requests.get(url)\n",
    "soup = bs(res.text)\n",
    "len_div = len(soup.select('.positionCssA'))\n",
    "for i in range(0,len_div):\n",
    "    divs = soup.select('.positionCssA')[i]['href']\n",
    "    print divs\n"
   ]
  },
  {
   "cell_type": "code",
   "execution_count": 3,
   "metadata": {
    "collapsed": false
   },
   "outputs": [],
   "source": [
    "import requests\n",
    "from bs4 import BeautifulSoup as bs\n",
    "import time\n",
    "url=\"http://www.1111.com.tw/job-bank/job-index.asp?ss=s&tt=1,2,4,16&d0=140202&wc=100100&si=1&ps=40&trans=1\"\n",
    "res = requests.get(url)\n",
    "soup = bs(res.text)\n",
    "len_div = len(soup.select('.positionCssA'))\n",
    "for i in range(0,len_div):\n",
    "    z = \"\"\n",
    "    xurl = soup.select('.positionCssA')[i]['href']\n",
    "    res1 = requests.get(xurl)\n",
    "    soup1 = bs(res1.text)\n",
    "    divs = soup1.select('#midblock dt')\n",
    "    divs1 = soup1.select('#midblock dd')\n",
    "    len_div = len(divs)\n",
    "    for n in range(0,len(divs)):\n",
    "        x = divs[n].text\n",
    "        y = divs1[n].text    \n",
    "        dic = {x:y}\n",
    "        for ele in dic:\n",
    "            z += ele+dic[ele]\n",
    "        name = xurl.split('No=')[1].split('&')[0]      \n",
    "        f = open('E:\\cheers\\{}.txt'.format(name),'w')\n",
    "        f.write(z.encode('utf8'))\n",
    "        f.close()\n",
    "        time.sleep(0.5)"
   ]
  },
  {
   "cell_type": "code",
   "execution_count": 6,
   "metadata": {
    "collapsed": false
   },
   "outputs": [
    {
     "name": "stdout",
     "output_type": "stream",
     "text": [
      "第 2 / 41 頁，共 1632 筆\n"
     ]
    }
   ],
   "source": [
    "#算頁數\n",
    "import math\n",
    "import requests\n",
    "from bs4 import BeautifulSoup as bs\n",
    "url=\"http://www.1111.com.tw/job-bank/job-index.asp?ss=s&tt=1,2,4,16&d0=140202&wc=100100&si=1&ps=40&trans=1&page=2\"\n",
    "res = requests.get(url)\n",
    "soup = bs(res.text)\n",
    "rec_number = soup.select('#showTotalPageCssBottom')[0]\n",
    "print rec_number.text\n",
    "#page_number = int(math.ceil(float(rec_number[0].text) /100 ))"
   ]
  },
  {
   "cell_type": "code",
   "execution_count": 12,
   "metadata": {
    "collapsed": false
   },
   "outputs": [
    {
     "name": "stdout",
     "output_type": "stream",
     "text": [
      "程式設計師\n"
     ]
    }
   ],
   "source": [
    "import requests\n",
    "from bs4 import BeautifulSoup as bs\n",
    "import time\n",
    "z = \"\"\n",
    "url=\"http://www.1111.com.tw/job-bank/job-description.asp?eNo=54513672&agent=home_20160309\"\n",
    "res = requests.get(url)\n",
    "soup = bs(res.text)\n",
    "divs = soup.select('#midblock dt')\n",
    "divs1 = soup.select('#midblock dd')\n",
    "title = soup.select('#commonTop h1')[0]\n",
    "print title.text"
   ]
  },
  {
   "cell_type": "code",
   "execution_count": 8,
   "metadata": {
    "collapsed": true
   },
   "outputs": [
    {
     "name": "stdout",
     "output_type": "stream",
     "text": [
      "http://www.1111.com.tw/job-bank/job-index.asp?ss=s&tt=1,2,4,16&d0=140202&wc=100100&si=1&ps=40&trans=1&page=1\n",
      "http://www.1111.com.tw/job-bank/job-index.asp?ss=s&tt=1,2,4,16&d0=140202&wc=100100&si=1&ps=40&trans=1&page=2\n",
      "http://www.1111.com.tw/job-bank/job-index.asp?ss=s&tt=1,2,4,16&d0=140202&wc=100100&si=1&ps=40&trans=1&page=3\n",
      "http://www.1111.com.tw/job-bank/job-index.asp?ss=s&tt=1,2,4,16&d0=140202&wc=100100&si=1&ps=40&trans=1&page=4\n",
      "http://www.1111.com.tw/job-bank/job-index.asp?ss=s&tt=1,2,4,16&d0=140202&wc=100100&si=1&ps=40&trans=1&page=5\n",
      "http://www.1111.com.tw/job-bank/job-index.asp?ss=s&tt=1,2,4,16&d0=140202&wc=100100&si=1&ps=40&trans=1&page=6\n",
      "http://www.1111.com.tw/job-bank/job-index.asp?ss=s&tt=1,2,4,16&d0=140202&wc=100100&si=1&ps=40&trans=1&page=7\n",
      "http://www.1111.com.tw/job-bank/job-index.asp?ss=s&tt=1,2,4,16&d0=140202&wc=100100&si=1&ps=40&trans=1&page=8\n",
      "http://www.1111.com.tw/job-bank/job-index.asp?ss=s&tt=1,2,4,16&d0=140202&wc=100100&si=1&ps=40&trans=1&page=9\n",
      "http://www.1111.com.tw/job-bank/job-index.asp?ss=s&tt=1,2,4,16&d0=140202&wc=100100&si=1&ps=40&trans=1&page=10\n",
      "http://www.1111.com.tw/job-bank/job-index.asp?ss=s&tt=1,2,4,16&d0=140202&wc=100100&si=1&ps=40&trans=1&page=11\n",
      "http://www.1111.com.tw/job-bank/job-index.asp?ss=s&tt=1,2,4,16&d0=140202&wc=100100&si=1&ps=40&trans=1&page=12\n",
      "http://www.1111.com.tw/job-bank/job-index.asp?ss=s&tt=1,2,4,16&d0=140202&wc=100100&si=1&ps=40&trans=1&page=13\n",
      "http://www.1111.com.tw/job-bank/job-index.asp?ss=s&tt=1,2,4,16&d0=140202&wc=100100&si=1&ps=40&trans=1&page=14\n",
      "http://www.1111.com.tw/job-bank/job-index.asp?ss=s&tt=1,2,4,16&d0=140202&wc=100100&si=1&ps=40&trans=1&page=15\n",
      "http://www.1111.com.tw/job-bank/job-index.asp?ss=s&tt=1,2,4,16&d0=140202&wc=100100&si=1&ps=40&trans=1&page=16\n",
      "http://www.1111.com.tw/job-bank/job-index.asp?ss=s&tt=1,2,4,16&d0=140202&wc=100100&si=1&ps=40&trans=1&page=17\n",
      "http://www.1111.com.tw/job-bank/job-index.asp?ss=s&tt=1,2,4,16&d0=140202&wc=100100&si=1&ps=40&trans=1&page=18\n",
      "http://www.1111.com.tw/job-bank/job-index.asp?ss=s&tt=1,2,4,16&d0=140202&wc=100100&si=1&ps=40&trans=1&page=19\n",
      "http://www.1111.com.tw/job-bank/job-index.asp?ss=s&tt=1,2,4,16&d0=140202&wc=100100&si=1&ps=40&trans=1&page=20\n",
      "http://www.1111.com.tw/job-bank/job-index.asp?ss=s&tt=1,2,4,16&d0=140202&wc=100100&si=1&ps=40&trans=1&page=21\n",
      "http://www.1111.com.tw/job-bank/job-index.asp?ss=s&tt=1,2,4,16&d0=140202&wc=100100&si=1&ps=40&trans=1&page=22\n",
      "http://www.1111.com.tw/job-bank/job-index.asp?ss=s&tt=1,2,4,16&d0=140202&wc=100100&si=1&ps=40&trans=1&page=23\n",
      "http://www.1111.com.tw/job-bank/job-index.asp?ss=s&tt=1,2,4,16&d0=140202&wc=100100&si=1&ps=40&trans=1&page=24\n",
      "http://www.1111.com.tw/job-bank/job-index.asp?ss=s&tt=1,2,4,16&d0=140202&wc=100100&si=1&ps=40&trans=1&page=25\n",
      "http://www.1111.com.tw/job-bank/job-index.asp?ss=s&tt=1,2,4,16&d0=140202&wc=100100&si=1&ps=40&trans=1&page=26\n",
      "http://www.1111.com.tw/job-bank/job-index.asp?ss=s&tt=1,2,4,16&d0=140202&wc=100100&si=1&ps=40&trans=1&page=27\n",
      "http://www.1111.com.tw/job-bank/job-index.asp?ss=s&tt=1,2,4,16&d0=140202&wc=100100&si=1&ps=40&trans=1&page=28\n",
      "http://www.1111.com.tw/job-bank/job-index.asp?ss=s&tt=1,2,4,16&d0=140202&wc=100100&si=1&ps=40&trans=1&page=29\n",
      "http://www.1111.com.tw/job-bank/job-index.asp?ss=s&tt=1,2,4,16&d0=140202&wc=100100&si=1&ps=40&trans=1&page=30\n",
      "http://www.1111.com.tw/job-bank/job-index.asp?ss=s&tt=1,2,4,16&d0=140202&wc=100100&si=1&ps=40&trans=1&page=31\n",
      "http://www.1111.com.tw/job-bank/job-index.asp?ss=s&tt=1,2,4,16&d0=140202&wc=100100&si=1&ps=40&trans=1&page=32\n",
      "http://www.1111.com.tw/job-bank/job-index.asp?ss=s&tt=1,2,4,16&d0=140202&wc=100100&si=1&ps=40&trans=1&page=33\n",
      "http://www.1111.com.tw/job-bank/job-index.asp?ss=s&tt=1,2,4,16&d0=140202&wc=100100&si=1&ps=40&trans=1&page=34\n",
      "http://www.1111.com.tw/job-bank/job-index.asp?ss=s&tt=1,2,4,16&d0=140202&wc=100100&si=1&ps=40&trans=1&page=35\n",
      "http://www.1111.com.tw/job-bank/job-index.asp?ss=s&tt=1,2,4,16&d0=140202&wc=100100&si=1&ps=40&trans=1&page=36\n",
      "http://www.1111.com.tw/job-bank/job-index.asp?ss=s&tt=1,2,4,16&d0=140202&wc=100100&si=1&ps=40&trans=1&page=37\n",
      "http://www.1111.com.tw/job-bank/job-index.asp?ss=s&tt=1,2,4,16&d0=140202&wc=100100&si=1&ps=40&trans=1&page=38\n",
      "http://www.1111.com.tw/job-bank/job-index.asp?ss=s&tt=1,2,4,16&d0=140202&wc=100100&si=1&ps=40&trans=1&page=39\n",
      "http://www.1111.com.tw/job-bank/job-index.asp?ss=s&tt=1,2,4,16&d0=140202&wc=100100&si=1&ps=40&trans=1&page=40\n",
      "http://www.1111.com.tw/job-bank/job-index.asp?ss=s&tt=1,2,4,16&d0=140202&wc=100100&si=1&ps=40&trans=1&page=41\n"
     ]
    }
   ],
   "source": [
    "#算頁數\n",
    "import requests\n",
    "from bs4 import BeautifulSoup as bs\n",
    "import time\n",
    "ggurl=\"http://www.1111.com.tw/job-bank/job-index.asp?ss=s&tt=1,2,4,16&d0=140202&wc=100100&si=1&ps=40&trans=1&page={}\"\n",
    "for pages in xrange(0,41):\n",
    "    url=ggurl.format(pages+1)\n",
    "    print url"
   ]
  },
  {
   "cell_type": "code",
   "execution_count": 8,
   "metadata": {
    "collapsed": true
   },
   "outputs": [
    {
     "name": "stdout",
     "output_type": "stream",
     "text": [
      "工作說明：\n",
      "工作說明：\n",
      "工作說明：\n",
      "工作說明：\n",
      "工作說明：\n",
      "工作說明：\n",
      "工作說明：\n",
      "工作說明：\n",
      "工作說明：\n",
      "工作說明：\n",
      "工作說明：\n",
      "工作說明：\n",
      "工作說明：\n",
      "工作說明：\n"
     ]
    },
    {
     "ename": "KeyboardInterrupt",
     "evalue": "",
     "output_type": "error",
     "traceback": [
      "\u001b[1;31m---------------------------------------------------------------------------\u001b[0m",
      "\u001b[1;31mKeyboardInterrupt\u001b[0m                         Traceback (most recent call last)",
      "\u001b[1;32m<ipython-input-8-fc7d7d4127d9>\u001b[0m in \u001b[0;36m<module>\u001b[1;34m()\u001b[0m\n\u001b[0;32m     12\u001b[0m         \u001b[0mz\u001b[0m \u001b[1;33m=\u001b[0m \u001b[1;34m\"\"\u001b[0m\u001b[1;33m\u001b[0m\u001b[0m\n\u001b[0;32m     13\u001b[0m         \u001b[0mxurl\u001b[0m \u001b[1;33m=\u001b[0m \u001b[0msoup\u001b[0m\u001b[1;33m.\u001b[0m\u001b[0mselect\u001b[0m\u001b[1;33m(\u001b[0m\u001b[1;34m'.positionCssA'\u001b[0m\u001b[1;33m)\u001b[0m\u001b[1;33m[\u001b[0m\u001b[0mi\u001b[0m\u001b[1;33m]\u001b[0m\u001b[1;33m[\u001b[0m\u001b[1;34m'href'\u001b[0m\u001b[1;33m]\u001b[0m\u001b[1;33m\u001b[0m\u001b[0m\n\u001b[1;32m---> 14\u001b[1;33m         \u001b[0mres1\u001b[0m \u001b[1;33m=\u001b[0m \u001b[0mrequests\u001b[0m\u001b[1;33m.\u001b[0m\u001b[0mget\u001b[0m\u001b[1;33m(\u001b[0m\u001b[0mxurl\u001b[0m\u001b[1;33m)\u001b[0m\u001b[1;33m\u001b[0m\u001b[0m\n\u001b[0m\u001b[0;32m     15\u001b[0m         \u001b[0msoup1\u001b[0m \u001b[1;33m=\u001b[0m \u001b[0mbs\u001b[0m\u001b[1;33m(\u001b[0m\u001b[0mres1\u001b[0m\u001b[1;33m.\u001b[0m\u001b[0mtext\u001b[0m\u001b[1;33m)\u001b[0m\u001b[1;33m\u001b[0m\u001b[0m\n\u001b[0;32m     16\u001b[0m         \u001b[0mdivs\u001b[0m \u001b[1;33m=\u001b[0m \u001b[0msoup1\u001b[0m\u001b[1;33m.\u001b[0m\u001b[0mselect\u001b[0m\u001b[1;33m(\u001b[0m\u001b[1;34m'#midblock dt'\u001b[0m\u001b[1;33m)\u001b[0m\u001b[1;33m[\u001b[0m\u001b[1;36m0\u001b[0m\u001b[1;33m]\u001b[0m\u001b[1;33m.\u001b[0m\u001b[0mtext\u001b[0m\u001b[1;33m\u001b[0m\u001b[0m\n",
      "\u001b[1;32mC:\\Users\\BIG DATA\\Anaconda2\\lib\\site-packages\\requests\\api.pyc\u001b[0m in \u001b[0;36mget\u001b[1;34m(url, params, **kwargs)\u001b[0m\n\u001b[0;32m     65\u001b[0m \u001b[1;33m\u001b[0m\u001b[0m\n\u001b[0;32m     66\u001b[0m     \u001b[0mkwargs\u001b[0m\u001b[1;33m.\u001b[0m\u001b[0msetdefault\u001b[0m\u001b[1;33m(\u001b[0m\u001b[1;34m'allow_redirects'\u001b[0m\u001b[1;33m,\u001b[0m \u001b[0mTrue\u001b[0m\u001b[1;33m)\u001b[0m\u001b[1;33m\u001b[0m\u001b[0m\n\u001b[1;32m---> 67\u001b[1;33m     \u001b[1;32mreturn\u001b[0m \u001b[0mrequest\u001b[0m\u001b[1;33m(\u001b[0m\u001b[1;34m'get'\u001b[0m\u001b[1;33m,\u001b[0m \u001b[0murl\u001b[0m\u001b[1;33m,\u001b[0m \u001b[0mparams\u001b[0m\u001b[1;33m=\u001b[0m\u001b[0mparams\u001b[0m\u001b[1;33m,\u001b[0m \u001b[1;33m**\u001b[0m\u001b[0mkwargs\u001b[0m\u001b[1;33m)\u001b[0m\u001b[1;33m\u001b[0m\u001b[0m\n\u001b[0m\u001b[0;32m     68\u001b[0m \u001b[1;33m\u001b[0m\u001b[0m\n\u001b[0;32m     69\u001b[0m \u001b[1;33m\u001b[0m\u001b[0m\n",
      "\u001b[1;32mC:\\Users\\BIG DATA\\Anaconda2\\lib\\site-packages\\requests\\api.pyc\u001b[0m in \u001b[0;36mrequest\u001b[1;34m(method, url, **kwargs)\u001b[0m\n\u001b[0;32m     51\u001b[0m     \u001b[1;31m# cases, and look like a memory leak in others.\u001b[0m\u001b[1;33m\u001b[0m\u001b[1;33m\u001b[0m\u001b[0m\n\u001b[0;32m     52\u001b[0m     \u001b[1;32mwith\u001b[0m \u001b[0msessions\u001b[0m\u001b[1;33m.\u001b[0m\u001b[0mSession\u001b[0m\u001b[1;33m(\u001b[0m\u001b[1;33m)\u001b[0m \u001b[1;32mas\u001b[0m \u001b[0msession\u001b[0m\u001b[1;33m:\u001b[0m\u001b[1;33m\u001b[0m\u001b[0m\n\u001b[1;32m---> 53\u001b[1;33m         \u001b[1;32mreturn\u001b[0m \u001b[0msession\u001b[0m\u001b[1;33m.\u001b[0m\u001b[0mrequest\u001b[0m\u001b[1;33m(\u001b[0m\u001b[0mmethod\u001b[0m\u001b[1;33m=\u001b[0m\u001b[0mmethod\u001b[0m\u001b[1;33m,\u001b[0m \u001b[0murl\u001b[0m\u001b[1;33m=\u001b[0m\u001b[0murl\u001b[0m\u001b[1;33m,\u001b[0m \u001b[1;33m**\u001b[0m\u001b[0mkwargs\u001b[0m\u001b[1;33m)\u001b[0m\u001b[1;33m\u001b[0m\u001b[0m\n\u001b[0m\u001b[0;32m     54\u001b[0m \u001b[1;33m\u001b[0m\u001b[0m\n\u001b[0;32m     55\u001b[0m \u001b[1;33m\u001b[0m\u001b[0m\n",
      "\u001b[1;32mC:\\Users\\BIG DATA\\Anaconda2\\lib\\site-packages\\requests\\sessions.pyc\u001b[0m in \u001b[0;36mrequest\u001b[1;34m(self, method, url, params, data, headers, cookies, files, auth, timeout, allow_redirects, proxies, hooks, stream, verify, cert, json)\u001b[0m\n\u001b[0;32m    466\u001b[0m         }\n\u001b[0;32m    467\u001b[0m         \u001b[0msend_kwargs\u001b[0m\u001b[1;33m.\u001b[0m\u001b[0mupdate\u001b[0m\u001b[1;33m(\u001b[0m\u001b[0msettings\u001b[0m\u001b[1;33m)\u001b[0m\u001b[1;33m\u001b[0m\u001b[0m\n\u001b[1;32m--> 468\u001b[1;33m         \u001b[0mresp\u001b[0m \u001b[1;33m=\u001b[0m \u001b[0mself\u001b[0m\u001b[1;33m.\u001b[0m\u001b[0msend\u001b[0m\u001b[1;33m(\u001b[0m\u001b[0mprep\u001b[0m\u001b[1;33m,\u001b[0m \u001b[1;33m**\u001b[0m\u001b[0msend_kwargs\u001b[0m\u001b[1;33m)\u001b[0m\u001b[1;33m\u001b[0m\u001b[0m\n\u001b[0m\u001b[0;32m    469\u001b[0m \u001b[1;33m\u001b[0m\u001b[0m\n\u001b[0;32m    470\u001b[0m         \u001b[1;32mreturn\u001b[0m \u001b[0mresp\u001b[0m\u001b[1;33m\u001b[0m\u001b[0m\n",
      "\u001b[1;32mC:\\Users\\BIG DATA\\Anaconda2\\lib\\site-packages\\requests\\sessions.pyc\u001b[0m in \u001b[0;36msend\u001b[1;34m(self, request, **kwargs)\u001b[0m\n\u001b[0;32m    574\u001b[0m \u001b[1;33m\u001b[0m\u001b[0m\n\u001b[0;32m    575\u001b[0m         \u001b[1;31m# Send the request\u001b[0m\u001b[1;33m\u001b[0m\u001b[1;33m\u001b[0m\u001b[0m\n\u001b[1;32m--> 576\u001b[1;33m         \u001b[0mr\u001b[0m \u001b[1;33m=\u001b[0m \u001b[0madapter\u001b[0m\u001b[1;33m.\u001b[0m\u001b[0msend\u001b[0m\u001b[1;33m(\u001b[0m\u001b[0mrequest\u001b[0m\u001b[1;33m,\u001b[0m \u001b[1;33m**\u001b[0m\u001b[0mkwargs\u001b[0m\u001b[1;33m)\u001b[0m\u001b[1;33m\u001b[0m\u001b[0m\n\u001b[0m\u001b[0;32m    577\u001b[0m \u001b[1;33m\u001b[0m\u001b[0m\n\u001b[0;32m    578\u001b[0m         \u001b[1;31m# Total elapsed time of the request (approximately)\u001b[0m\u001b[1;33m\u001b[0m\u001b[1;33m\u001b[0m\u001b[0m\n",
      "\u001b[1;32mC:\\Users\\BIG DATA\\Anaconda2\\lib\\site-packages\\requests\\adapters.pyc\u001b[0m in \u001b[0;36msend\u001b[1;34m(self, request, stream, timeout, verify, cert, proxies)\u001b[0m\n\u001b[0;32m    374\u001b[0m                     \u001b[0mdecode_content\u001b[0m\u001b[1;33m=\u001b[0m\u001b[0mFalse\u001b[0m\u001b[1;33m,\u001b[0m\u001b[1;33m\u001b[0m\u001b[0m\n\u001b[0;32m    375\u001b[0m                     \u001b[0mretries\u001b[0m\u001b[1;33m=\u001b[0m\u001b[0mself\u001b[0m\u001b[1;33m.\u001b[0m\u001b[0mmax_retries\u001b[0m\u001b[1;33m,\u001b[0m\u001b[1;33m\u001b[0m\u001b[0m\n\u001b[1;32m--> 376\u001b[1;33m                     \u001b[0mtimeout\u001b[0m\u001b[1;33m=\u001b[0m\u001b[0mtimeout\u001b[0m\u001b[1;33m\u001b[0m\u001b[0m\n\u001b[0m\u001b[0;32m    377\u001b[0m                 )\n\u001b[0;32m    378\u001b[0m \u001b[1;33m\u001b[0m\u001b[0m\n",
      "\u001b[1;32mC:\\Users\\BIG DATA\\Anaconda2\\lib\\site-packages\\requests\\packages\\urllib3\\connectionpool.pyc\u001b[0m in \u001b[0;36murlopen\u001b[1;34m(self, method, url, body, headers, retries, redirect, assert_same_host, timeout, pool_timeout, release_conn, **response_kw)\u001b[0m\n\u001b[0;32m    557\u001b[0m             httplib_response = self._make_request(conn, method, url,\n\u001b[0;32m    558\u001b[0m                                                   \u001b[0mtimeout\u001b[0m\u001b[1;33m=\u001b[0m\u001b[0mtimeout_obj\u001b[0m\u001b[1;33m,\u001b[0m\u001b[1;33m\u001b[0m\u001b[0m\n\u001b[1;32m--> 559\u001b[1;33m                                                   body=body, headers=headers)\n\u001b[0m\u001b[0;32m    560\u001b[0m \u001b[1;33m\u001b[0m\u001b[0m\n\u001b[0;32m    561\u001b[0m             \u001b[1;31m# If we're going to release the connection in ``finally:``, then\u001b[0m\u001b[1;33m\u001b[0m\u001b[1;33m\u001b[0m\u001b[0m\n",
      "\u001b[1;32mC:\\Users\\BIG DATA\\Anaconda2\\lib\\site-packages\\requests\\packages\\urllib3\\connectionpool.pyc\u001b[0m in \u001b[0;36m_make_request\u001b[1;34m(self, conn, method, url, timeout, **httplib_request_kw)\u001b[0m\n\u001b[0;32m    374\u001b[0m         \u001b[1;32mtry\u001b[0m\u001b[1;33m:\u001b[0m\u001b[1;33m\u001b[0m\u001b[0m\n\u001b[0;32m    375\u001b[0m             \u001b[1;32mtry\u001b[0m\u001b[1;33m:\u001b[0m  \u001b[1;31m# Python 2.7, use buffering of HTTP responses\u001b[0m\u001b[1;33m\u001b[0m\u001b[0m\n\u001b[1;32m--> 376\u001b[1;33m                 \u001b[0mhttplib_response\u001b[0m \u001b[1;33m=\u001b[0m \u001b[0mconn\u001b[0m\u001b[1;33m.\u001b[0m\u001b[0mgetresponse\u001b[0m\u001b[1;33m(\u001b[0m\u001b[0mbuffering\u001b[0m\u001b[1;33m=\u001b[0m\u001b[0mTrue\u001b[0m\u001b[1;33m)\u001b[0m\u001b[1;33m\u001b[0m\u001b[0m\n\u001b[0m\u001b[0;32m    377\u001b[0m             \u001b[1;32mexcept\u001b[0m \u001b[0mTypeError\u001b[0m\u001b[1;33m:\u001b[0m  \u001b[1;31m# Python 2.6 and older\u001b[0m\u001b[1;33m\u001b[0m\u001b[0m\n\u001b[0;32m    378\u001b[0m                 \u001b[0mhttplib_response\u001b[0m \u001b[1;33m=\u001b[0m \u001b[0mconn\u001b[0m\u001b[1;33m.\u001b[0m\u001b[0mgetresponse\u001b[0m\u001b[1;33m(\u001b[0m\u001b[1;33m)\u001b[0m\u001b[1;33m\u001b[0m\u001b[0m\n",
      "\u001b[1;32mC:\\Users\\BIG DATA\\Anaconda2\\lib\\httplib.pyc\u001b[0m in \u001b[0;36mgetresponse\u001b[1;34m(self, buffering)\u001b[0m\n\u001b[0;32m   1134\u001b[0m \u001b[1;33m\u001b[0m\u001b[0m\n\u001b[0;32m   1135\u001b[0m         \u001b[1;32mtry\u001b[0m\u001b[1;33m:\u001b[0m\u001b[1;33m\u001b[0m\u001b[0m\n\u001b[1;32m-> 1136\u001b[1;33m             \u001b[0mresponse\u001b[0m\u001b[1;33m.\u001b[0m\u001b[0mbegin\u001b[0m\u001b[1;33m(\u001b[0m\u001b[1;33m)\u001b[0m\u001b[1;33m\u001b[0m\u001b[0m\n\u001b[0m\u001b[0;32m   1137\u001b[0m             \u001b[1;32massert\u001b[0m \u001b[0mresponse\u001b[0m\u001b[1;33m.\u001b[0m\u001b[0mwill_close\u001b[0m \u001b[1;33m!=\u001b[0m \u001b[0m_UNKNOWN\u001b[0m\u001b[1;33m\u001b[0m\u001b[0m\n\u001b[0;32m   1138\u001b[0m             \u001b[0mself\u001b[0m\u001b[1;33m.\u001b[0m\u001b[0m__state\u001b[0m \u001b[1;33m=\u001b[0m \u001b[0m_CS_IDLE\u001b[0m\u001b[1;33m\u001b[0m\u001b[0m\n",
      "\u001b[1;32mC:\\Users\\BIG DATA\\Anaconda2\\lib\\httplib.pyc\u001b[0m in \u001b[0;36mbegin\u001b[1;34m(self)\u001b[0m\n\u001b[0;32m    451\u001b[0m         \u001b[1;31m# read until we get a non-100 response\u001b[0m\u001b[1;33m\u001b[0m\u001b[1;33m\u001b[0m\u001b[0m\n\u001b[0;32m    452\u001b[0m         \u001b[1;32mwhile\u001b[0m \u001b[0mTrue\u001b[0m\u001b[1;33m:\u001b[0m\u001b[1;33m\u001b[0m\u001b[0m\n\u001b[1;32m--> 453\u001b[1;33m             \u001b[0mversion\u001b[0m\u001b[1;33m,\u001b[0m \u001b[0mstatus\u001b[0m\u001b[1;33m,\u001b[0m \u001b[0mreason\u001b[0m \u001b[1;33m=\u001b[0m \u001b[0mself\u001b[0m\u001b[1;33m.\u001b[0m\u001b[0m_read_status\u001b[0m\u001b[1;33m(\u001b[0m\u001b[1;33m)\u001b[0m\u001b[1;33m\u001b[0m\u001b[0m\n\u001b[0m\u001b[0;32m    454\u001b[0m             \u001b[1;32mif\u001b[0m \u001b[0mstatus\u001b[0m \u001b[1;33m!=\u001b[0m \u001b[0mCONTINUE\u001b[0m\u001b[1;33m:\u001b[0m\u001b[1;33m\u001b[0m\u001b[0m\n\u001b[0;32m    455\u001b[0m                 \u001b[1;32mbreak\u001b[0m\u001b[1;33m\u001b[0m\u001b[0m\n",
      "\u001b[1;32mC:\\Users\\BIG DATA\\Anaconda2\\lib\\httplib.pyc\u001b[0m in \u001b[0;36m_read_status\u001b[1;34m(self)\u001b[0m\n\u001b[0;32m    407\u001b[0m     \u001b[1;32mdef\u001b[0m \u001b[0m_read_status\u001b[0m\u001b[1;33m(\u001b[0m\u001b[0mself\u001b[0m\u001b[1;33m)\u001b[0m\u001b[1;33m:\u001b[0m\u001b[1;33m\u001b[0m\u001b[0m\n\u001b[0;32m    408\u001b[0m         \u001b[1;31m# Initialize with Simple-Response defaults\u001b[0m\u001b[1;33m\u001b[0m\u001b[1;33m\u001b[0m\u001b[0m\n\u001b[1;32m--> 409\u001b[1;33m         \u001b[0mline\u001b[0m \u001b[1;33m=\u001b[0m \u001b[0mself\u001b[0m\u001b[1;33m.\u001b[0m\u001b[0mfp\u001b[0m\u001b[1;33m.\u001b[0m\u001b[0mreadline\u001b[0m\u001b[1;33m(\u001b[0m\u001b[0m_MAXLINE\u001b[0m \u001b[1;33m+\u001b[0m \u001b[1;36m1\u001b[0m\u001b[1;33m)\u001b[0m\u001b[1;33m\u001b[0m\u001b[0m\n\u001b[0m\u001b[0;32m    410\u001b[0m         \u001b[1;32mif\u001b[0m \u001b[0mlen\u001b[0m\u001b[1;33m(\u001b[0m\u001b[0mline\u001b[0m\u001b[1;33m)\u001b[0m \u001b[1;33m>\u001b[0m \u001b[0m_MAXLINE\u001b[0m\u001b[1;33m:\u001b[0m\u001b[1;33m\u001b[0m\u001b[0m\n\u001b[0;32m    411\u001b[0m             \u001b[1;32mraise\u001b[0m \u001b[0mLineTooLong\u001b[0m\u001b[1;33m(\u001b[0m\u001b[1;34m\"header line\"\u001b[0m\u001b[1;33m)\u001b[0m\u001b[1;33m\u001b[0m\u001b[0m\n",
      "\u001b[1;32mC:\\Users\\BIG DATA\\Anaconda2\\lib\\socket.pyc\u001b[0m in \u001b[0;36mreadline\u001b[1;34m(self, size)\u001b[0m\n\u001b[0;32m    478\u001b[0m             \u001b[1;32mwhile\u001b[0m \u001b[0mTrue\u001b[0m\u001b[1;33m:\u001b[0m\u001b[1;33m\u001b[0m\u001b[0m\n\u001b[0;32m    479\u001b[0m                 \u001b[1;32mtry\u001b[0m\u001b[1;33m:\u001b[0m\u001b[1;33m\u001b[0m\u001b[0m\n\u001b[1;32m--> 480\u001b[1;33m                     \u001b[0mdata\u001b[0m \u001b[1;33m=\u001b[0m \u001b[0mself\u001b[0m\u001b[1;33m.\u001b[0m\u001b[0m_sock\u001b[0m\u001b[1;33m.\u001b[0m\u001b[0mrecv\u001b[0m\u001b[1;33m(\u001b[0m\u001b[0mself\u001b[0m\u001b[1;33m.\u001b[0m\u001b[0m_rbufsize\u001b[0m\u001b[1;33m)\u001b[0m\u001b[1;33m\u001b[0m\u001b[0m\n\u001b[0m\u001b[0;32m    481\u001b[0m                 \u001b[1;32mexcept\u001b[0m \u001b[0merror\u001b[0m\u001b[1;33m,\u001b[0m \u001b[0me\u001b[0m\u001b[1;33m:\u001b[0m\u001b[1;33m\u001b[0m\u001b[0m\n\u001b[0;32m    482\u001b[0m                     \u001b[1;32mif\u001b[0m \u001b[0me\u001b[0m\u001b[1;33m.\u001b[0m\u001b[0margs\u001b[0m\u001b[1;33m[\u001b[0m\u001b[1;36m0\u001b[0m\u001b[1;33m]\u001b[0m \u001b[1;33m==\u001b[0m \u001b[0mEINTR\u001b[0m\u001b[1;33m:\u001b[0m\u001b[1;33m\u001b[0m\u001b[0m\n",
      "\u001b[1;31mKeyboardInterrupt\u001b[0m: "
     ]
    }
   ],
   "source": [
    "#抓台北市每個工作\n",
    "import requests\n",
    "from bs4 import BeautifulSoup as bs\n",
    "import time\n",
    "ggurl=\"http://www.1111.com.tw/job-bank/job-index.asp?ss=s&tt=1,2,4,16&d0=140202&wc=100100&si=1&ps=40&trans=1&page={}\"\n",
    "for pages in xrange(1,41):\n",
    "    url=ggurl.format(pages)\n",
    "    res = requests.get(url)\n",
    "    soup = bs(res.text)\n",
    "    len_div = len(soup.select('.positionCssA'))\n",
    "    for i in range(0,len_div):\n",
    "        z = \"\"\n",
    "        xurl = soup.select('.positionCssA')[i]['href']\n",
    "        res1 = requests.get(xurl)\n",
    "        soup1 = bs(res1.text)\n",
    "        divs = soup1.select('#midblock dt')\n",
    "        divs1 = soup1.select('#midblock dd')\n",
    "        title = soup.select('#commonTop h1')[0]\n",
    "        paper = title.text+' ： '\n",
    "        len_div = len(divs)\n",
    "        for n in range(0,len(divs)):\n",
    "            x = divs[n].text\n",
    "            y = divs1[n].text    \n",
    "            dic = {x:y}\n",
    "            for ele in dic:\n",
    "                z += ele+dic[ele]\n",
    "            name = xurl.split('No=')[1].split('&')[0]      \n",
    "            f = open('E:\\job\\{}.txt'.format(name),'w')\n",
    "            f.write(z.encode('utf8'))\n",
    "            f.close()\n",
    "            time.sleep(0.1)"
   ]
  },
  {
   "cell_type": "code",
   "execution_count": 23,
   "metadata": {
    "collapsed": false
   },
   "outputs": [
    {
     "name": "stdout",
     "output_type": "stream",
     "text": [
      "http://www.1111.com.tw/job-bank/job-description.asp?eNo=78607483&agent=home_20160313\n",
      "\n"
     ]
    }
   ],
   "source": [
    "import requests\n",
    "from bs4 import BeautifulSoup as bs\n",
    "import time\n",
    "with open('E:\\job_url\\job.txt', 'r') as f:\n",
    "    for url in f.readlines():\n",
    "        url_content = url\n",
    "        res_content = requests.get(url_content)\n",
    "        soup_content = bs(res_content.text)\n",
    "        divs_content = soup_content.select('#midblock dt')\n",
    "        divs1_content = soup_content.select('#midblock dd')\n",
    "        try:\n",
    "            title = soup_content.select('#commonTop h1')[0]\n",
    "        except:\n",
    "            print url_content\n",
    "        paper = title.text+' '\n",
    "        len_div = len(divs_content)\n",
    "        for n in range(0,len_div):\n",
    "            x = divs_content[n].text\n",
    "            y = divs1_content[n].text    \n",
    "            dic = {x:y}\n",
    "            for ele in dic:\n",
    "                paper += ele+dic[ele]\n",
    "            name = url_content.split('No=')[1].split('&')[0]      \n",
    "            f = open('E:\\job\\{}.txt'.format(name),'w')\n",
    "            f.write(paper.encode('utf8'))\n",
    "            f.close()\n",
    "            time.sleep(0.1)"
   ]
  },
  {
   "cell_type": "code",
   "execution_count": 9,
   "metadata": {
    "collapsed": false
   },
   "outputs": [],
   "source": [
    "#抓個縣市每個工作連結\n",
    "import requests\n",
    "from bs4 import BeautifulSoup as bs\n",
    "import time\n",
    "cou_url='http://www.1111.com.tw/job-bank/category.asp?cat=1&d=140202&city=1'\n",
    "cou_res = requests.get(cou_url)\n",
    "cou_soup = bs(cou_res.text)\n",
    "cou_divs = cou_soup.select('.step2')[0]\n",
    "all_job= \"\"\n",
    "page_number=0\n",
    "for p in xrange(0,15):\n",
    "    divs1 = cou_divs.select('a')[p]['href']\n",
    "    url1111 = 'http://www.1111.com.tw'\n",
    "    url2222 = url1111+divs1\n",
    "    job_url = url2222+'&page=1'\n",
    "    job_res = requests.get(job_url)\n",
    "    job_soup = bs(job_res.text)  \n",
    "    \n",
    "    page_div = job_soup.select('#showTotalPageCssBottom')[0]\n",
    "    page_div1 = page_div.text.split('/'+' ')[1].split(' ')[0]\n",
    "    page_number = int(page_div1)\n",
    "    if (page_number)>1: \n",
    "        for i in xrange(0,page_number):\n",
    "            job_url1 = url2222+'&page={}'.format(i+1)\n",
    "            job_res1 = requests.get(job_url1)\n",
    "            job_soup1 = bs(job_res1.text)\n",
    "            len_div = len(job_soup1.select('.positionCssA'))\n",
    "            for pages in xrange(0,len_div):\n",
    "                job_href1 = job_soup1.select('.positionCssA')[pages]['href']\n",
    "                all_job += job_href1+'\\n'\n",
    "    else:\n",
    "        job_href = job_soup.select('.positionCssA')[0]['href'] \n",
    "        all_job += job_href+'\\n'\n",
    "    f = open('E:\\country\\job.txt','w')\n",
    "    f.write(all_job.encode('utf8'))\n",
    "    f.close()\n",
    "    time.sleep(0.5)"
   ]
  },
  {
   "cell_type": "code",
   "execution_count": 76,
   "metadata": {
    "collapsed": false
   },
   "outputs": [],
   "source": [
    "#抓每個縣市\n",
    "import requests\n",
    "from bs4 import BeautifulSoup as bs\n",
    "cou_url='http://www.1111.com.tw/job-bank/category.asp?cat=1&d=140202&city=1'\n",
    "cou_res = requests.get(cou_url)\n",
    "cou_soup = bs(cou_res.text)\n",
    "cou_divs = cou_soup.select('.step2')[0]\n",
    "job_url1=\"\"\n",
    "for p in xrange(0,15):\n",
    "    divs1 = cou_divs.select('a')[p]['href']\n",
    "    url1111 = 'http://www.1111.com.tw'\n",
    "    url2222 = url1111+divs1\n",
    "    job_url = url2222+'&page={}'+'\\n'\n",
    "    job_url1 += job_url\n",
    "    f = open('E:\\country\\job.txt','w')\n",
    "    f.write(job_url1.encode('utf8'))\n",
    "    f.close()\n",
    "    time.sleep(0.5)"
   ]
  },
  {
   "cell_type": "code",
   "execution_count": 37,
   "metadata": {
    "collapsed": false
   },
   "outputs": [
    {
     "name": "stdout",
     "output_type": "stream",
     "text": [
      "15\n"
     ]
    }
   ],
   "source": [
    "#算城市\n",
    "import requests\n",
    "from bs4 import BeautifulSoup as bs\n",
    "url = \"http://www.1111.com.tw/job-bank/job-index.asp?ss=s&tt=1,2,4,16&d0=140202&wc=100200&si=1&ps=40&trans=1&page=1\"\n",
    "res = requests.get(url)\n",
    "soup = bs(res.text)\n",
    "page_div = soup.select('#showTotalPageCssBottom')[0]\n",
    "page_div1 = div.text.split('/'+' ')[1].split(' ')[0]\n",
    "page_number = int(page_number)"
   ]
  },
  {
   "cell_type": "code",
   "execution_count": 4,
   "metadata": {
    "collapsed": false
   },
   "outputs": [
    {
     "name": "stdout",
     "output_type": "stream",
     "text": [
      "http://www.1111.com.tw/job-bank/job-description.asp?eNo=78310975&agent=home_20160312\n",
      "http://www.1111.com.tw/job-bank/job-description.asp?eNo=78520868&agent=home_20160312\n",
      "http://www.1111.com.tw/job-bank/job-description.asp?eNo=78526728&agent=home_20160312\n",
      "http://www.1111.com.tw/job-bank/job-description.asp?eNo=77288541&agent=home_20160312\n",
      "http://www.1111.com.tw/job-bank/job-description.asp?eNo=77116522&agent=home_20160312\n",
      "http://www.1111.com.tw/job-bank/job-description.asp?eNo=77268238&agent=home_20160312\n",
      "http://www.1111.com.tw/job-bank/job-description.asp?eNo=77030365&agent=home_20160312\n",
      "http://www.1111.com.tw/job-bank/job-description.asp?eNo=78611417&agent=home_20160312\n",
      "http://www.1111.com.tw/job-bank/job-description.asp?eNo=78613236&agent=home_20160312\n",
      "http://www.1111.com.tw/job-bank/job-description.asp?eNo=78396597&agent=home_20160312\n",
      "http://www.1111.com.tw/job-bank/job-description.asp?eNo=78594858&agent=home_20160312\n",
      "http://www.1111.com.tw/job-bank/job-description.asp?eNo=78531709&agent=home_20160312\n",
      "http://www.1111.com.tw/job-bank/job-description.asp?eNo=78542119&agent=home_20160312\n",
      "http://www.1111.com.tw/job-bank/job-description.asp?eNo=78581498&agent=home_20160312\n",
      "http://www.1111.com.tw/job-bank/job-description.asp?eNo=77053993&agent=home_20160312\n"
     ]
    }
   ],
   "source": [
    "import requests\n",
    "from bs4 import BeautifulSoup as bs\n",
    "cou_url='http://www.1111.com.tw/job-bank/category.asp?cat=1&d=140202&city=1'\n",
    "cou_res = requests.get(cou_url)\n",
    "cou_soup = bs(cou_res.text)\n",
    "cou_divs = cou_soup.select('.step2')[0]\n",
    "for p in xrange(0,15):\n",
    "    divs1 = cou_divs.select('a')[p]['href']\n",
    "    url1111 = 'http://www.1111.com.tw'\n",
    "    url2222 = url1111+divs1\n",
    "    job_url = url2222+'&page=1'\n",
    "    job_res = requests.get(job_url)\n",
    "    job_soup = bs(job_res.text)\n",
    "    len_div = len(job_soup.select('.positionCssA'))\n",
    "    job_href = job_soup.select('.positionCssA')[0]['href']\n",
    "    print job_href"
   ]
  },
  {
   "cell_type": "code",
   "execution_count": 7,
   "metadata": {
    "collapsed": false
   },
   "outputs": [
    {
     "name": "stdout",
     "output_type": "stream",
     "text": [
      "1\n",
      "2\n",
      "3\n",
      "4\n",
      "5\n",
      "6\n",
      "7\n",
      "8\n",
      "9\n",
      "10\n"
     ]
    }
   ],
   "source": [
    "for i in range(0,10):\n",
    "    print i+1"
   ]
  },
  {
   "cell_type": "code",
   "execution_count": 21,
   "metadata": {
    "collapsed": false
   },
   "outputs": [
    {
     "name": "stdout",
     "output_type": "stream",
     "text": [
      "網站程式設計師~週休二日、近國父紀念館站\n"
     ]
    }
   ],
   "source": [
    "import requests\n",
    "from bs4 import BeautifulSoup as bs\n",
    "import time\n",
    "paper = \"\"\n",
    "url=\"http://www.1111.com.tw/job-bank/job-description.asp?eNo=76939860&agent=home_20160312\"\n",
    "res = requests.get(url)\n",
    "soup = bs(res.text)\n",
    "divs = soup.select('#midblock dt')\n",
    "divs1 = soup.select('#midblock dd')\n",
    "title = soup.select('#commonTop h1')[0]\n",
    "print title.text"
   ]
  },
  {
   "cell_type": "code",
   "execution_count": null,
   "metadata": {
    "collapsed": true
   },
   "outputs": [],
   "source": []
  }
 ],
 "metadata": {
  "kernelspec": {
   "display_name": "Python 2",
   "language": "python",
   "name": "python2"
  },
  "language_info": {
   "codemirror_mode": {
    "name": "ipython",
    "version": 2
   },
   "file_extension": ".py",
   "mimetype": "text/x-python",
   "name": "python",
   "nbconvert_exporter": "python",
   "pygments_lexer": "ipython2",
   "version": "2.7.11"
  }
 },
 "nbformat": 4,
 "nbformat_minor": 0
}
