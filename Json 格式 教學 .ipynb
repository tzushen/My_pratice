{
 "cells": [
  {
   "cell_type": "code",
   "execution_count": 30,
   "metadata": {
    "collapsed": false
   },
   "outputs": [
    {
     "name": "stdout",
     "output_type": "stream",
     "text": [
      "{'1': 1, '3': 3, '2': 2, '5': 5, '4': 4, '6': 6}\n"
     ]
    }
   ],
   "source": [
    "m1 = {'1':1,\"2\":2,\"3\":3}\n",
    "m2 = {\"4\":4,\"5\":5,\"6\":6}\n",
    "#http://localhost:8888/notebooks/Untitled.ipynb?kernel_name=python2\n",
    "m1.update(m2)\n",
    "print m1"
   ]
  },
  {
   "cell_type": "code",
   "execution_count": 19,
   "metadata": {
    "collapsed": false
   },
   "outputs": [
    {
     "name": "stdout",
     "output_type": "stream",
     "text": [
      "{'2015-01-02': [1, 2, 3], '2015-01-01': [6, 7, 8]}\n"
     ]
    }
   ],
   "source": [
    "m = {\"2015-01-01\":[4,5,6],\"2015-01-02\":[1,2,3],\"2015-01-01\":[6,7,8]}\n",
    "print m"
   ]
  },
  {
   "cell_type": "code",
   "execution_count": 36,
   "metadata": {
    "collapsed": false
   },
   "outputs": [
    {
     "name": "stdout",
     "output_type": "stream",
     "text": [
      "['1', '3', '2', '5', '4', '6']\n",
      "['5', '4', '6']\n"
     ]
    }
   ],
   "source": [
    "m=[m1,m2]\n",
    "for mm in m:\n",
    "    print mm.keys()"
   ]
  },
  {
   "cell_type": "code",
   "execution_count": 21,
   "metadata": {
    "collapsed": false
   },
   "outputs": [
    {
     "name": "stdout",
     "output_type": "stream",
     "text": [
      "[{'1': 1, '3': 3, '2': 2, '4': 4}]\n",
      "[{'1': 1, '3': 3, '2': 2, '4': 4}, {'3': 3, '4': 4}]\n"
     ]
    }
   ],
   "source": [
    "m_list = []\n",
    "m_list.append(m1)\n",
    "print m_list\n",
    "m_list.append(m2)\n",
    "print m_list"
   ]
  },
  {
   "cell_type": "code",
   "execution_count": null,
   "metadata": {
    "collapsed": true
   },
   "outputs": [],
   "source": []
  }
 ],
 "metadata": {
  "kernelspec": {
   "display_name": "Python 2",
   "language": "python",
   "name": "python2"
  },
  "language_info": {
   "codemirror_mode": {
    "name": "ipython",
    "version": 2
   },
   "file_extension": ".py",
   "mimetype": "text/x-python",
   "name": "python",
   "nbconvert_exporter": "python",
   "pygments_lexer": "ipython2",
   "version": "2.7.11"
  }
 },
 "nbformat": 4,
 "nbformat_minor": 0
}
